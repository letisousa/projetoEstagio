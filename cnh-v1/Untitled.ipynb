{
 "cells": [
  {
   "cell_type": "code",
   "execution_count": 3,
   "metadata": {},
   "outputs": [
    {
     "data": {
      "text/plain": [
       "'\\ndef cropRoiCpf(img):\\n    imgcrop = img[1270:1325, 1673:1922] \\n    return imgcrop\\n\\ndef cropRoiNReg(img):\\n    imgcrop = img[1555:1615, 1400:1630]\\n    return imgcrop\\n\\ndef cropRoiNasc(img):\\n    imgcrop = img[1267:1325, 1905:2091]\\n    return imgcrop\\n\\ndef cropRoiVal(img):\\n    imgcrop = img[1540:1620, 1660:1850]\\n    return imgcrop\\n\\nimagens = glob.glob(\"cnhs/*.jpg\")\\n\\nfor c in imagens:\\n    img = cv2.imread(c)\\n    print(img.shape)\\n    roiCpf = cropRoiCpf(img)\\n    plt.imshow(cv2.cvtColor(roiCpf, cv2.COLOR_BGR2RGB))\\n    plt.show()\\n    roiNasc = cropRoiNasc(img)\\n    roiNReg = cropRoiNReg(img)\\n    plt.imshow(cv2.cvtColor(roiNReg, cv2.COLOR_BGR2RGB))\\n    plt.show()\\n    roiVal = cropRoiVal(img)\\n    plt.imshow(cv2.cvtColor(roiNasc, cv2.COLOR_BGR2RGB))\\n    plt.show()\\n    plt.imshow(cv2.cvtColor(roiVal, cv2.COLOR_BGR2RGB))\\n    plt.show()'"
      ]
     },
     "execution_count": 3,
     "metadata": {},
     "output_type": "execute_result"
    }
   ],
   "source": [
    "import cv2\n",
    "import glob\n",
    "import numpy as np\n",
    "import matplotlib.pyplot as plt\n",
    "plt.rcParams['figure.figsize'] = (11,7)\n",
    "\n",
    "'''\n",
    "def cropRoiCpf(img):\n",
    "    imgcrop = img[1270:1325, 1673:1922] \n",
    "    return imgcrop\n",
    "\n",
    "def cropRoiNReg(img):\n",
    "    imgcrop = img[1555:1615, 1400:1630]\n",
    "    return imgcrop\n",
    "\n",
    "def cropRoiNasc(img):\n",
    "    imgcrop = img[1267:1325, 1905:2091]\n",
    "    return imgcrop\n",
    "\n",
    "def cropRoiVal(img):\n",
    "    imgcrop = img[1540:1620, 1660:1850]\n",
    "    return imgcrop\n",
    "\n",
    "imagens = glob.glob(\"cnhs/*.jpg\")\n",
    "\n",
    "for c in imagens:\n",
    "    img = cv2.imread(c)\n",
    "    print(img.shape)\n",
    "    roiCpf = cropRoiCpf(img)\n",
    "    plt.imshow(cv2.cvtColor(roiCpf, cv2.COLOR_BGR2RGB))\n",
    "    plt.show()\n",
    "    roiNasc = cropRoiNasc(img)\n",
    "    roiNReg = cropRoiNReg(img)\n",
    "    plt.imshow(cv2.cvtColor(roiNReg, cv2.COLOR_BGR2RGB))\n",
    "    plt.show()\n",
    "    roiVal = cropRoiVal(img)\n",
    "    plt.imshow(cv2.cvtColor(roiNasc, cv2.COLOR_BGR2RGB))\n",
    "    plt.show()\n",
    "    plt.imshow(cv2.cvtColor(roiVal, cv2.COLOR_BGR2RGB))\n",
    "    plt.show()'''"
   ]
  },
  {
   "cell_type": "code",
   "execution_count": 4,
   "metadata": {},
   "outputs": [],
   "source": [
    "import pytesseract\n",
    "from pytesseract import Output"
   ]
  }
 ],
 "metadata": {
  "kernelspec": {
   "display_name": "Python 3",
   "language": "python",
   "name": "python3"
  },
  "language_info": {
   "codemirror_mode": {
    "name": "ipython",
    "version": 3
   },
   "file_extension": ".py",
   "mimetype": "text/x-python",
   "name": "python",
   "nbconvert_exporter": "python",
   "pygments_lexer": "ipython3",
   "version": "3.8.5"
  }
 },
 "nbformat": 4,
 "nbformat_minor": 4
}
