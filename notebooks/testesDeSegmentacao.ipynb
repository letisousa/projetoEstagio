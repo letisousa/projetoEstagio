{
 "cells": [
  {
   "cell_type": "code",
   "execution_count": 1,
   "metadata": {},
   "outputs": [],
   "source": [
    "import glob\n",
    "import numpy as np\n",
    "import cv2\n",
    "from PIL import Image #testando\n",
    "import imutils #testando\n",
    "#from collections import namedtuple #testando\n",
    "from skimage import filters\n",
    "import matplotlib.pyplot as plt\n",
    "plt.rcParams['figure.figsize'] = (11,7) #apresenta todas as imagens na proporção definida"
   ]
  },
  {
   "cell_type": "code",
   "execution_count": 2,
   "metadata": {},
   "outputs": [],
   "source": [
    "def crop_name_seg(img):\n",
    "    imgcrop = img[100:100+40, 90:90+490] \n",
    "    return imgcrop"
   ]
  },
  {
   "cell_type": "code",
   "execution_count": 3,
   "metadata": {},
   "outputs": [],
   "source": [
    "def cannyedges(img):\n",
    "    edges = cv2.Canny(img,80,150)\n",
    "    return edges"
   ]
  },
  {
   "cell_type": "code",
   "execution_count": 4,
   "metadata": {},
   "outputs": [],
   "source": [
    "def dilatacao(img):\n",
    "    kernel = np.ones((2,2),np.uint8)\n",
    "    dilation = cv2.dilate(img,kernel,iterations = 1)\n",
    "    return dilation"
   ]
  },
  {
   "cell_type": "code",
   "execution_count": 5,
   "metadata": {},
   "outputs": [],
   "source": [
    "def erosao(img):\n",
    "    kernel = np.ones((2,2),np.uint8)\n",
    "    erosion = cv2.erode(img,kernel)\n",
    "    return erosion"
   ]
  },
  {
   "cell_type": "code",
   "execution_count": 6,
   "metadata": {},
   "outputs": [],
   "source": [
    "def opening(img):\n",
    "    kernel = np.ones((2,2),np.uint8)\n",
    "    op = cv2.morphologyEx(img, cv2.MORPH_OPEN, kernel)\n",
    "    return op"
   ]
  },
  {
   "cell_type": "code",
   "execution_count": 7,
   "metadata": {},
   "outputs": [],
   "source": [
    "def gaussianBlurring(img):\n",
    "    blur1 = cv2.GaussianBlur(img, (5, 5), 0)\n",
    "    return blur1"
   ]
  },
  {
   "cell_type": "code",
   "execution_count": 8,
   "metadata": {},
   "outputs": [],
   "source": [
    "def conv_edges(img):\n",
    "    convolution_matrix = np.array([[0,1,0],\n",
    "                                  [1,-4,1],\n",
    "                                  [0,1,0]]) #filtro/matriz para detecção de bordas\n",
    "    edg = cv2.filter2D(img, -1, convolution_matrix)\n",
    "    return edg"
   ]
  },
  {
   "cell_type": "code",
   "execution_count": 9,
   "metadata": {},
   "outputs": [],
   "source": [
    "def sharpenFunction(image):\n",
    "    kernel = np.array([[-1, -1, -1], [-1, 9, -1], [-1, -1, -1]]) #matriz de convolução que aplica nitidez\n",
    "    return cv2.filter2D(image, -1, kernel)"
   ]
  },
  {
   "cell_type": "code",
   "execution_count": 10,
   "metadata": {},
   "outputs": [],
   "source": [
    "def inverte(img):\n",
    "    ret,thresh1 = cv2.threshold(img,87,255,cv2.THRESH_BINARY)\n",
    "    #ret,thresh2 = cv2.threshold(img,127,255,cv2.THRESH_BINARY_INV)\n",
    "    return thresh1"
   ]
  },
  {
   "cell_type": "code",
   "execution_count": 11,
   "metadata": {},
   "outputs": [],
   "source": [
    "def settozero(img):\n",
    "    ret, thresh = cv2.threshold(img, 170, 255, cv2.THRESH_TOZERO)\n",
    "    return thresh"
   ]
  },
  {
   "cell_type": "code",
   "execution_count": 12,
   "metadata": {},
   "outputs": [],
   "source": [
    "def thresholding(image):\n",
    "    (T,Thresh1) = cv2.threshold(image, 185, 255, cv2.THRESH_TRUNC)#Valores maiores do que o limite são ajustados iguais ao valor do limite e os valores menores do que o limite permanecem inalterados.\n",
    "    (T,Thresh3) = cv2.threshold(Thresh1, 43, 255, cv2.THRESH_BINARY)#transforma qualquer valor acima do limite em valor mínimo possível e qualquer valor abaixo do limite em valor máximo possível.\n",
    "    (T,Thresh2) = cv2.threshold(Thresh3, 0 ,255, cv2.ADAPTIVE_THRESH_GAUSSIAN_C)#o valor limite no pixel (x, y) é a soma ponderada gaussiana dos valores de vizinhança menos alguma constante C.\n",
    "    (T,Thresh4) = cv2.threshold(Thresh2, 30, 255, cv2.CALIB_CB_ADAPTIVE_THRESH)\n",
    "    return Thresh3"
   ]
  },
  {
   "cell_type": "code",
   "execution_count": 13,
   "metadata": {},
   "outputs": [],
   "source": [
    "def togray(img):\n",
    "    g = cv2.cvtColor(img, cv2.COLOR_BGR2GRAY)\n",
    "    return g"
   ]
  },
  {
   "cell_type": "code",
   "execution_count": 14,
   "metadata": {},
   "outputs": [],
   "source": [
    "def filterFunction(image):\n",
    "    (T,Thresh1) = cv2.threshold(image, 200, 255, cv2.THRESH_TRUNC)\n",
    "    Thresh2 = cv2.adaptiveThreshold(Thresh1, 255,cv2.ADAPTIVE_THRESH_MEAN_C, cv2.THRESH_BINARY, 231,50)\n",
    "    return Thresh2"
   ]
  },
  {
   "cell_type": "code",
   "execution_count": 15,
   "metadata": {},
   "outputs": [],
   "source": [
    "def bilateral(img):\n",
    "    bil = cv2.bilateralFilter(img, 11, 77, 77) #3, 21, 21 #5, 35, 35 #7, 49, 49 #9, 63, 63 #11, 77, 77\n",
    "    return bil"
   ]
  },
  {
   "cell_type": "code",
   "execution_count": 16,
   "metadata": {},
   "outputs": [],
   "source": [
    "def thresholdLocal(img):\n",
    "    T = skimage.filters.threshold_local(img, 11, offset = 10, method = \"gaussian\")\n",
    "    imag = (gray > T).astype(\"uint8\") * 255\n",
    "    return imag"
   ]
  },
  {
   "cell_type": "code",
   "execution_count": 17,
   "metadata": {},
   "outputs": [],
   "source": [
    "def cleanImage(image, stage = 0):\n",
    "    gray = cv2.cvtColor(image, cv2.COLOR_BGR2GRAY)\n",
    "    kernel = cv2.getStructuringElement(cv2.MORPH_RECT, (5, 5))\n",
    "    # aplicando as operações topHat/blackHat\n",
    "    topHat = cv2.morphologyEx(gray, cv2.MORPH_TOPHAT, kernel) #revela as áreas claras com fundo escuro\n",
    "    blackHat = cv2.morphologyEx(gray, cv2.MORPH_BLACKHAT, kernel) #revela as áreas escuras com um fundo claro\n",
    "    # fazendo adição e subtração entre as operações morfológicas\n",
    "    add = cv2.add(gray, topHat)\n",
    "    subtract = cv2.subtract(add, blackHat)\n",
    "    if (stage == 1):\n",
    "        return subtract\n",
    "    T = filters.threshold_local(subtract, 29, offset=7, method=\"gaussian\", mode=\"mirror\")\n",
    "    thresh = (subtract > T).astype(\"uint8\") * 255\n",
    "    if (stage == 2):\n",
    "        return thresh\n",
    "    # inverte a imagem \n",
    "    thresh = cv2.bitwise_not(thresh)\n",
    "    return thresh"
   ]
  },
  {
   "cell_type": "code",
   "execution_count": 18,
   "metadata": {},
   "outputs": [],
   "source": [
    "# images = glob.glob(\"../alinhadas/*jpg\")\n",
    "\n",
    "# for j in images:\n",
    "#     image = cv2.imread(j)"
   ]
  }
 ],
 "metadata": {
  "kernelspec": {
   "display_name": "Python 3",
   "language": "python",
   "name": "python3"
  },
  "language_info": {
   "codemirror_mode": {
    "name": "ipython",
    "version": 3
   },
   "file_extension": ".py",
   "mimetype": "text/x-python",
   "name": "python",
   "nbconvert_exporter": "python",
   "pygments_lexer": "ipython3",
   "version": "3.8.5"
  }
 },
 "nbformat": 4,
 "nbformat_minor": 4
}
