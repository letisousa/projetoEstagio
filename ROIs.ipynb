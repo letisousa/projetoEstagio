{
 "cells": [
  {
   "cell_type": "code",
   "execution_count": 17,
   "metadata": {},
   "outputs": [],
   "source": [
    "from skimage.filters import threshold_local #scikit-image é uma coleção de algoritmos para processamento de imagem\n",
    "from skimage import measure\n",
    "import imutils\n",
    "import base64 #nos permite converter bytes contendo dados binários ou de texto em caracteres ASCII\n",
    "import os #modulo que fornece funções para interagir com o sistema operacional\n",
    "import random as rng\n",
    "import pytesseract\n",
    "import re \n",
    "import datetime\n",
    "import cv2\n",
    "import numpy as pn"
   ]
  },
  {
   "cell_type": "code",
   "execution_count": 18,
   "metadata": {},
   "outputs": [],
   "source": [
    "#definindo constantes\n",
    "\n",
    "w = 800\n",
    "cleanText = r\"[^A-Z0-9.,\\-\\s\\/]\" #regex para eliminar caracteres indesejados\n",
    "fontFace = cv2.FONT_HERSHEY_PLAIN # debug texto na imagem"
   ]
  },
  {
   "cell_type": "code",
   "execution_count": 19,
   "metadata": {},
   "outputs": [],
   "source": [
    "def cleanImage(image, stage = 0):\n",
    "    gray = cv2.cvtColor(image, cv2.COLOR_BGR2GRAY)\n",
    "    kernel = cv2.getStructuringElement(cv2.MORPH_RECT, (3, 3))\n",
    "    # aplicando as operações topHat/blackHat\n",
    "    topHat = cv2.morphologyEx(gray, cv2.MORPH_TOPHAT, kernel) #revela as áreas claras com fundo escuro\n",
    "    blackHat = cv2.morphologyEx(gray, cv2.MORPH_BLACKHAT, kernel) #revela as áreas escuras com um fundo claro\n",
    "    # fazendo adição e subtração entre as operações morfológicas\n",
    "    add = cv2.add(gray, topHat)\n",
    "    subtract = cv2.subtract(add, blackHat)\n",
    "    if (stage == 1):\n",
    "        return subtract\n",
    "    T = threshold_local(subtract, 39, offset=29, method=\"gaussian\", mode=\"mirror\")\n",
    "    thresh = (subtract > T).astype(\"uint8\") * 255\n",
    "    if (stage == 2):\n",
    "        return thresh\n",
    "    # inverte a imagem \n",
    "    thresh = cv2.bitwise_not(thresh)\n",
    "    return thresh"
   ]
  },
  {
   "cell_type": "code",
   "execution_count": 23,
   "metadata": {},
   "outputs": [],
   "source": [
    "#seleciona as áreas de interesse, ou seja, as possíveis áreas que possuem dados \n",
    "def extractROIs(image, origin, minArea = 1800, minHeight = 25, minWidth = 22): #talvez precise mudar esse parametros de área, altura e largura\n",
    "    # encontra os contornos na imagem\n",
    "    cnts = cv2.findContours(image, cv2.RETR_EXTERNAL, cv2.CHAIN_APPROX_SIMPLE) #https://docs.opencv.org/master/d4/d73/tutorial_py_contours_begin.html\n",
    "    cnts = imutils.grab_contours(cnts)#retorna contadores(contornos) em cnts\n",
    "    roisAsRects = [] #ROIs como retas\n",
    "   \n",
    "    for c in cnts:\n",
    "        rect = cv2.minAreaRect(c) #retângulo delimitador é desenhado com área mínima\n",
    "        (_, _),(rh, rw),_ = rect #pega o retorno do minAreaRect que é = canto superior esquerdo(x,y), (largura,altura), angulo de rotação\n",
    "        if (rh > 0):\n",
    "            ratio = float(rw)/rh #calcula a razão\n",
    "            area = rw*rh\n",
    "            if (area > minArea and rh > minHeight and rw > minWidth and (ratio > 1 or ratio < 0.5)):\n",
    "                #adiciona a lista de rois\n",
    "                roisAsRects.append(rect)\n",
    "        return roisAsRects\n",
    "    #não usa origin ??"
   ]
  },
  {
   "cell_type": "code",
   "execution_count": 29,
   "metadata": {},
   "outputs": [],
   "source": [
    "def rect2Box(rect):\n",
    "    box = cv2.boxPoints(rect) \n",
    "    box = np.int0(box)\n",
    "    return box #retorna 4 arrays [x,y], representando os 4 pontos da caixa\n",
    "\n",
    "#ajusta e refina as ROIs\n",
    "def cropRois(image, rects, multHeight = 0.73, multWidth = 0.97, topHeightCrop = 30): #parametros (????) \n",
    "    crops = []\n",
    "    data = {}\n",
    "    angles = []\n",
    "\n",
    "    for r in rects:\n",
    "        box = rect2Box(r)\n",
    "        W = r[1][0]\n",
    "        H = r[1][1]\n",
    "\n",
    "        Xs = [i[0] for i in box]\n",
    "        Ys = [i[1] for i in box]\n",
    "        x1 = min(Xs)\n",
    "        x2 = max(Xs)\n",
    "        y1 = min(Ys)\n",
    "        y2 = max(Ys)\n",
    "\n",
    "        rotated = False\n",
    "        angle = r[2]\n",
    "\n",
    "        if angle < -45:\n",
    "            angle += 90\n",
    "            rotated = True\n",
    "\n",
    "        # calc the centroid\n",
    "        center = (int((x1 + x2) / 2), int((y1 + y2) / 2))\n",
    "        size = (int((x2-x1)), int((y2 - y1)))\n",
    "        #cv2.circle(image, center, 2, 255, -1)\n",
    "\n",
    "        M = cv2.getRotationMatrix2D((size[0] / 2, size[1] / 2), angle, 1.0)\n",
    "\n",
    "        # prepare the crop\n",
    "        cropped = cv2.getRectSubPix(image, size, center)\n",
    "        cropped = cv2.warpAffine(cropped, M, size)\n",
    "        croppedW = W if not rotated else H \n",
    "        croppedH = H if not rotated else W\n",
    "\n",
    "        ratio = float(croppedW) / (croppedH)\n",
    "        area = float(croppedW) * croppedH\n",
    "\n",
    "        # if in the ratio\n",
    "        if (ratio > 2 and ratio < 16):\n",
    "            #text = \"{0:.2f}-{1:.2f} \".format(ratio, area)\n",
    "            #cv2.putText(image, text, center, cv2.FONT_HERSHEY_SIMPLEX, 0.5, (0, 255, 0), 2)\n",
    "            croppedRotated = cv2.getRectSubPix(cropped, (int(croppedW * multWidth), int(croppedH * multHeight if croppedH < topHeightCrop else croppedH * 0.9)), (size[0] / 2, size[1] / 2))\n",
    "            # save the angles to calc the avg/std\n",
    "            angles.append(angle)\n",
    "            # save the crops\n",
    "            crops.append(croppedRotated)\n",
    "            # will process from top to bottom, so save it to sort later\n",
    "            data[y1] = [croppedRotated, area, ratio, angle]\n",
    "\n",
    "    return data, np.mean(np.array(angles)), np.std(np.array(angles))"
   ]
  },
  {
   "cell_type": "code",
   "execution_count": 21,
   "metadata": {},
   "outputs": [],
   "source": [
    "#resize_proc = imutils.resize(image, width=W) #seria a imagem alinhada\n",
    "#resize_orig = imutils.resize(image, width=W)"
   ]
  }
 ],
 "metadata": {
  "kernelspec": {
   "display_name": "Python 3",
   "language": "python",
   "name": "python3"
  },
  "language_info": {
   "codemirror_mode": {
    "name": "ipython",
    "version": 3
   },
   "file_extension": ".py",
   "mimetype": "text/x-python",
   "name": "python",
   "nbconvert_exporter": "python",
   "pygments_lexer": "ipython3",
   "version": "3.8.5"
  }
 },
 "nbformat": 4,
 "nbformat_minor": 4
}
